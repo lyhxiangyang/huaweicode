{
 "cells": [
  {
   "cell_type": "markdown",
   "source": [
    "# 下面是一个自己组成的csv例子"
   ],
   "metadata": {
    "collapsed": false
   }
  },
  {
   "cell_type": "code",
   "execution_count": 28,
   "outputs": [],
   "source": [
    "from utils.DefineData import *\n",
    "import pandas as pd\n",
    "import numpy as np\n",
    "\n",
    "from utils.GetMetrics import get_metrics\n",
    "\n",
    "dictDF = {\n",
    "    \"fe1\" : np.arange(0,10),\n",
    "    \"fe2\" : np.arange(10,20),\n",
    "    \"fe5\" : np.arange(20,30),\n",
    "    FAULT_FLAG : [1] * 10\n",
    "}\n",
    "testdf1 = pd.DataFrame(data=dictDF)\n",
    "\n",
    "dictDF = {\n",
    "    \"fe1\" : np.arange(1,11),\n",
    "    \"fe2\" : np.arange(15,25),\n",
    "    \"fe5\" : np.arange(30,40),\n",
    "    FAULT_FLAG : [1] * 10\n",
    "}\n",
    "testdf2 = pd.DataFrame(data=dictDF)\n",
    "testdf3 = pd.DataFrame()"
   ],
   "metadata": {
    "collapsed": false,
    "pycharm": {
     "name": "#%%\n"
    }
   }
  },
  {
   "cell_type": "code",
   "execution_count": 29,
   "outputs": [
    {
     "data": {
      "text/plain": "   fe1  fe2  fe5  faultFlag\n0    0   10   20          1\n1    1   11   21          1\n2    2   12   22          1\n3    3   13   23          1\n4    4   14   24          1\n5    5   15   25          1\n6    6   16   26          1\n7    7   17   27          1\n8    8   18   28          1\n9    9   19   29          1",
      "text/html": "<div>\n<style scoped>\n    .dataframe tbody tr th:only-of-type {\n        vertical-align: middle;\n    }\n\n    .dataframe tbody tr th {\n        vertical-align: top;\n    }\n\n    .dataframe thead th {\n        text-align: right;\n    }\n</style>\n<table border=\"1\" class=\"dataframe\">\n  <thead>\n    <tr style=\"text-align: right;\">\n      <th></th>\n      <th>fe1</th>\n      <th>fe2</th>\n      <th>fe5</th>\n      <th>faultFlag</th>\n    </tr>\n  </thead>\n  <tbody>\n    <tr>\n      <th>0</th>\n      <td>0</td>\n      <td>10</td>\n      <td>20</td>\n      <td>1</td>\n    </tr>\n    <tr>\n      <th>1</th>\n      <td>1</td>\n      <td>11</td>\n      <td>21</td>\n      <td>1</td>\n    </tr>\n    <tr>\n      <th>2</th>\n      <td>2</td>\n      <td>12</td>\n      <td>22</td>\n      <td>1</td>\n    </tr>\n    <tr>\n      <th>3</th>\n      <td>3</td>\n      <td>13</td>\n      <td>23</td>\n      <td>1</td>\n    </tr>\n    <tr>\n      <th>4</th>\n      <td>4</td>\n      <td>14</td>\n      <td>24</td>\n      <td>1</td>\n    </tr>\n    <tr>\n      <th>5</th>\n      <td>5</td>\n      <td>15</td>\n      <td>25</td>\n      <td>1</td>\n    </tr>\n    <tr>\n      <th>6</th>\n      <td>6</td>\n      <td>16</td>\n      <td>26</td>\n      <td>1</td>\n    </tr>\n    <tr>\n      <th>7</th>\n      <td>7</td>\n      <td>17</td>\n      <td>27</td>\n      <td>1</td>\n    </tr>\n    <tr>\n      <th>8</th>\n      <td>8</td>\n      <td>18</td>\n      <td>28</td>\n      <td>1</td>\n    </tr>\n    <tr>\n      <th>9</th>\n      <td>9</td>\n      <td>19</td>\n      <td>29</td>\n      <td>1</td>\n    </tr>\n  </tbody>\n</table>\n</div>"
     },
     "execution_count": 29,
     "metadata": {},
     "output_type": "execute_result"
    }
   ],
   "source": [
    "testdf1"
   ],
   "metadata": {
    "collapsed": false,
    "pycharm": {
     "name": "#%%\n"
    }
   }
  },
  {
   "cell_type": "code",
   "execution_count": 30,
   "outputs": [
    {
     "data": {
      "text/plain": "   fe1  fe2  fe5  faultFlag\n0    1   15   30          1\n1    2   16   31          1\n2    3   17   32          1\n3    4   18   33          1\n4    5   19   34          1\n5    6   20   35          1\n6    7   21   36          1\n7    8   22   37          1\n8    9   23   38          1\n9   10   24   39          1",
      "text/html": "<div>\n<style scoped>\n    .dataframe tbody tr th:only-of-type {\n        vertical-align: middle;\n    }\n\n    .dataframe tbody tr th {\n        vertical-align: top;\n    }\n\n    .dataframe thead th {\n        text-align: right;\n    }\n</style>\n<table border=\"1\" class=\"dataframe\">\n  <thead>\n    <tr style=\"text-align: right;\">\n      <th></th>\n      <th>fe1</th>\n      <th>fe2</th>\n      <th>fe5</th>\n      <th>faultFlag</th>\n    </tr>\n  </thead>\n  <tbody>\n    <tr>\n      <th>0</th>\n      <td>1</td>\n      <td>15</td>\n      <td>30</td>\n      <td>1</td>\n    </tr>\n    <tr>\n      <th>1</th>\n      <td>2</td>\n      <td>16</td>\n      <td>31</td>\n      <td>1</td>\n    </tr>\n    <tr>\n      <th>2</th>\n      <td>3</td>\n      <td>17</td>\n      <td>32</td>\n      <td>1</td>\n    </tr>\n    <tr>\n      <th>3</th>\n      <td>4</td>\n      <td>18</td>\n      <td>33</td>\n      <td>1</td>\n    </tr>\n    <tr>\n      <th>4</th>\n      <td>5</td>\n      <td>19</td>\n      <td>34</td>\n      <td>1</td>\n    </tr>\n    <tr>\n      <th>5</th>\n      <td>6</td>\n      <td>20</td>\n      <td>35</td>\n      <td>1</td>\n    </tr>\n    <tr>\n      <th>6</th>\n      <td>7</td>\n      <td>21</td>\n      <td>36</td>\n      <td>1</td>\n    </tr>\n    <tr>\n      <th>7</th>\n      <td>8</td>\n      <td>22</td>\n      <td>37</td>\n      <td>1</td>\n    </tr>\n    <tr>\n      <th>8</th>\n      <td>9</td>\n      <td>23</td>\n      <td>38</td>\n      <td>1</td>\n    </tr>\n    <tr>\n      <th>9</th>\n      <td>10</td>\n      <td>24</td>\n      <td>39</td>\n      <td>1</td>\n    </tr>\n  </tbody>\n</table>\n</div>"
     },
     "execution_count": 30,
     "metadata": {},
     "output_type": "execute_result"
    }
   ],
   "source": [
    "testdf2"
   ],
   "metadata": {
    "collapsed": false,
    "pycharm": {
     "name": "#%%\n"
    }
   }
  },
  {
   "cell_type": "code",
   "execution_count": 31,
   "outputs": [
    {
     "data": {
      "text/plain": "    fe1  fe2  fe5  faultFlag\n0     0   10   20          1\n1     1   11   21          1\n2     2   12   22          1\n3     3   13   23          1\n4     4   14   24          1\n5     5   15   25          1\n6     6   16   26          1\n7     7   17   27          1\n8     8   18   28          1\n9     9   19   29          1\n10    1   15   30          1\n11    2   16   31          1\n12    3   17   32          1\n13    4   18   33          1\n14    5   19   34          1\n15    6   20   35          1\n16    7   21   36          1\n17    8   22   37          1\n18    9   23   38          1\n19   10   24   39          1",
      "text/html": "<div>\n<style scoped>\n    .dataframe tbody tr th:only-of-type {\n        vertical-align: middle;\n    }\n\n    .dataframe tbody tr th {\n        vertical-align: top;\n    }\n\n    .dataframe thead th {\n        text-align: right;\n    }\n</style>\n<table border=\"1\" class=\"dataframe\">\n  <thead>\n    <tr style=\"text-align: right;\">\n      <th></th>\n      <th>fe1</th>\n      <th>fe2</th>\n      <th>fe5</th>\n      <th>faultFlag</th>\n    </tr>\n  </thead>\n  <tbody>\n    <tr>\n      <th>0</th>\n      <td>0</td>\n      <td>10</td>\n      <td>20</td>\n      <td>1</td>\n    </tr>\n    <tr>\n      <th>1</th>\n      <td>1</td>\n      <td>11</td>\n      <td>21</td>\n      <td>1</td>\n    </tr>\n    <tr>\n      <th>2</th>\n      <td>2</td>\n      <td>12</td>\n      <td>22</td>\n      <td>1</td>\n    </tr>\n    <tr>\n      <th>3</th>\n      <td>3</td>\n      <td>13</td>\n      <td>23</td>\n      <td>1</td>\n    </tr>\n    <tr>\n      <th>4</th>\n      <td>4</td>\n      <td>14</td>\n      <td>24</td>\n      <td>1</td>\n    </tr>\n    <tr>\n      <th>5</th>\n      <td>5</td>\n      <td>15</td>\n      <td>25</td>\n      <td>1</td>\n    </tr>\n    <tr>\n      <th>6</th>\n      <td>6</td>\n      <td>16</td>\n      <td>26</td>\n      <td>1</td>\n    </tr>\n    <tr>\n      <th>7</th>\n      <td>7</td>\n      <td>17</td>\n      <td>27</td>\n      <td>1</td>\n    </tr>\n    <tr>\n      <th>8</th>\n      <td>8</td>\n      <td>18</td>\n      <td>28</td>\n      <td>1</td>\n    </tr>\n    <tr>\n      <th>9</th>\n      <td>9</td>\n      <td>19</td>\n      <td>29</td>\n      <td>1</td>\n    </tr>\n    <tr>\n      <th>10</th>\n      <td>1</td>\n      <td>15</td>\n      <td>30</td>\n      <td>1</td>\n    </tr>\n    <tr>\n      <th>11</th>\n      <td>2</td>\n      <td>16</td>\n      <td>31</td>\n      <td>1</td>\n    </tr>\n    <tr>\n      <th>12</th>\n      <td>3</td>\n      <td>17</td>\n      <td>32</td>\n      <td>1</td>\n    </tr>\n    <tr>\n      <th>13</th>\n      <td>4</td>\n      <td>18</td>\n      <td>33</td>\n      <td>1</td>\n    </tr>\n    <tr>\n      <th>14</th>\n      <td>5</td>\n      <td>19</td>\n      <td>34</td>\n      <td>1</td>\n    </tr>\n    <tr>\n      <th>15</th>\n      <td>6</td>\n      <td>20</td>\n      <td>35</td>\n      <td>1</td>\n    </tr>\n    <tr>\n      <th>16</th>\n      <td>7</td>\n      <td>21</td>\n      <td>36</td>\n      <td>1</td>\n    </tr>\n    <tr>\n      <th>17</th>\n      <td>8</td>\n      <td>22</td>\n      <td>37</td>\n      <td>1</td>\n    </tr>\n    <tr>\n      <th>18</th>\n      <td>9</td>\n      <td>23</td>\n      <td>38</td>\n      <td>1</td>\n    </tr>\n    <tr>\n      <th>19</th>\n      <td>10</td>\n      <td>24</td>\n      <td>39</td>\n      <td>1</td>\n    </tr>\n  </tbody>\n</table>\n</div>"
     },
     "execution_count": 31,
     "metadata": {},
     "output_type": "execute_result"
    }
   ],
   "source": [
    "pd.concat([testdf1, testdf2], axis=0, ignore_index=True)"
   ],
   "metadata": {
    "collapsed": false,
    "pycharm": {
     "name": "#%%\n"
    }
   }
  },
  {
   "cell_type": "code",
   "execution_count": 36,
   "outputs": [
    {
     "data": {
      "text/plain": "            11         22\nfe1  [1, 2, 3]  [3, 4, 5]\nfe2  [4, 5, 6]  [4, 5, 6]",
      "text/html": "<div>\n<style scoped>\n    .dataframe tbody tr th:only-of-type {\n        vertical-align: middle;\n    }\n\n    .dataframe tbody tr th {\n        vertical-align: top;\n    }\n\n    .dataframe thead th {\n        text-align: right;\n    }\n</style>\n<table border=\"1\" class=\"dataframe\">\n  <thead>\n    <tr style=\"text-align: right;\">\n      <th></th>\n      <th>11</th>\n      <th>22</th>\n    </tr>\n  </thead>\n  <tbody>\n    <tr>\n      <th>fe1</th>\n      <td>[1, 2, 3]</td>\n      <td>[3, 4, 5]</td>\n    </tr>\n    <tr>\n      <th>fe2</th>\n      <td>[4, 5, 6]</td>\n      <td>[4, 5, 6]</td>\n    </tr>\n  </tbody>\n</table>\n</div>"
     },
     "execution_count": 36,
     "metadata": {},
     "output_type": "execute_result"
    }
   ],
   "source": [
    "\n",
    "td = {\n",
    "    11: {\"fe1\": [1,2,3], \"fe2\": [4,5,6]},\n",
    "    22: {\"fe1\": [3,4,5], \"fe2\": [4,5,6]}\n",
    "}\n",
    "pd.DataFrame(td)"
   ],
   "metadata": {
    "collapsed": false,
    "pycharm": {
     "name": "#%%\n"
    }
   }
  },
  {
   "cell_type": "code",
   "execution_count": 37,
   "outputs": [
    {
     "ename": "FileNotFoundError",
     "evalue": "[Errno 2] No such file or directory: '/tmp/lyh/l/1/3'",
     "output_type": "error",
     "traceback": [
      "\u001B[0;31m---------------------------------------------------------------------------\u001B[0m",
      "\u001B[0;31mFileNotFoundError\u001B[0m                         Traceback (most recent call last)",
      "\u001B[0;32m<ipython-input-37-2f251522baff>\u001B[0m in \u001B[0;36m<module>\u001B[0;34m\u001B[0m\n\u001B[1;32m      1\u001B[0m \u001B[0;32mimport\u001B[0m \u001B[0mos\u001B[0m\u001B[0;34m\u001B[0m\u001B[0;34m\u001B[0m\u001B[0m\n\u001B[0;32m----> 2\u001B[0;31m \u001B[0mos\u001B[0m\u001B[0;34m.\u001B[0m\u001B[0mmkdir\u001B[0m\u001B[0;34m(\u001B[0m\u001B[0;34m\"/tmp/lyh/l/1/3\"\u001B[0m\u001B[0;34m)\u001B[0m\u001B[0;34m\u001B[0m\u001B[0;34m\u001B[0m\u001B[0m\n\u001B[0m",
      "\u001B[0;31mFileNotFoundError\u001B[0m: [Errno 2] No such file or directory: '/tmp/lyh/l/1/3'"
     ]
    }
   ],
   "source": [
    "import os\n",
    "os.mkdir(\"/tmp/lyh/l/1/3\")"
   ],
   "metadata": {
    "collapsed": false,
    "pycharm": {
     "name": "#%%\n"
    }
   }
  },
  {
   "cell_type": "code",
   "execution_count": 1,
   "outputs": [
    {
     "data": {
      "text/plain": "{'tp': 0,\n 'tn': 5,\n 'fp': 0,\n 'fn': 1,\n 'precision': nan,\n 'recall': 0.0,\n 'accuracy': 0.8333333333333334}"
     },
     "execution_count": 1,
     "metadata": {},
     "output_type": "execute_result"
    }
   ],
   "source": [
    "from utils.GetMetrics import get_metrics\n",
    "l1 = [0, 0, 0, 0, 0, 1]\n",
    "l2 = [0, 0, 0, 0, 0, 0]\n",
    "get_metrics(l1, l2, 1)"
   ],
   "metadata": {
    "collapsed": false,
    "pycharm": {
     "name": "#%%\n"
    }
   }
  },
  {
   "cell_type": "code",
   "execution_count": null,
   "outputs": [],
   "source": [],
   "metadata": {
    "collapsed": false,
    "pycharm": {
     "name": "#%%\n"
    }
   }
  }
 ],
 "metadata": {
  "kernelspec": {
   "display_name": "Python 3",
   "language": "python",
   "name": "python3"
  },
  "language_info": {
   "codemirror_mode": {
    "name": "ipython",
    "version": 2
   },
   "file_extension": ".py",
   "mimetype": "text/x-python",
   "name": "python",
   "nbconvert_exporter": "python",
   "pygments_lexer": "ipython2",
   "version": "2.7.6"
  }
 },
 "nbformat": 4,
 "nbformat_minor": 0
}