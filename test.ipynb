{
 "cells": [
  {
   "cell_type": "markdown",
   "source": [
    "# 下面是一个自己组成的csv例子"
   ],
   "metadata": {
    "collapsed": false
   }
  },
  {
   "cell_type": "code",
   "execution_count": 33,
   "outputs": [],
   "source": [
    "from utils.DefineData import *\n",
    "import pandas as pd\n",
    "import numpy as np\n",
    "dictDF = {\n",
    "    \"fe1\" : np.arange(0,10),\n",
    "    \"fe2\" : np.arange(10,20),\n",
    "    \"fe5\" : np.arange(20,30),\n",
    "    # FAULT_FLAG : [1,2,3,5,1,2,3, 5, 5,3]\n",
    "}\n",
    "testdf1 = pd.DataFrame(data=dictDF)\n",
    "\n",
    "dictDF = {\n",
    "    \"fe11\" : np.arange(1,11),\n",
    "    \"fe22\" : np.arange(15,25),\n",
    "    \"fe555\" : np.arange(30,40),\n",
    "   # FAULT_FLAG : [1,2,3,5,1,2,3, 5, 5,3]\n",
    "}\n",
    "testdf2 = pd.DataFrame(data=dictDF)\n",
    "testdf3 = pd.DataFrame()"
   ],
   "metadata": {
    "collapsed": false,
    "pycharm": {
     "name": "#%%\n"
    }
   }
  },
  {
   "cell_type": "code",
   "execution_count": 34,
   "outputs": [
    {
     "data": {
      "text/plain": "   fe1  fe2  fe5\n0    0   10   20\n1    1   11   21\n2    2   12   22\n3    3   13   23\n4    4   14   24\n5    5   15   25\n6    6   16   26\n7    7   17   27\n8    8   18   28\n9    9   19   29",
      "text/html": "<div>\n<style scoped>\n    .dataframe tbody tr th:only-of-type {\n        vertical-align: middle;\n    }\n\n    .dataframe tbody tr th {\n        vertical-align: top;\n    }\n\n    .dataframe thead th {\n        text-align: right;\n    }\n</style>\n<table border=\"1\" class=\"dataframe\">\n  <thead>\n    <tr style=\"text-align: right;\">\n      <th></th>\n      <th>fe1</th>\n      <th>fe2</th>\n      <th>fe5</th>\n    </tr>\n  </thead>\n  <tbody>\n    <tr>\n      <th>0</th>\n      <td>0</td>\n      <td>10</td>\n      <td>20</td>\n    </tr>\n    <tr>\n      <th>1</th>\n      <td>1</td>\n      <td>11</td>\n      <td>21</td>\n    </tr>\n    <tr>\n      <th>2</th>\n      <td>2</td>\n      <td>12</td>\n      <td>22</td>\n    </tr>\n    <tr>\n      <th>3</th>\n      <td>3</td>\n      <td>13</td>\n      <td>23</td>\n    </tr>\n    <tr>\n      <th>4</th>\n      <td>4</td>\n      <td>14</td>\n      <td>24</td>\n    </tr>\n    <tr>\n      <th>5</th>\n      <td>5</td>\n      <td>15</td>\n      <td>25</td>\n    </tr>\n    <tr>\n      <th>6</th>\n      <td>6</td>\n      <td>16</td>\n      <td>26</td>\n    </tr>\n    <tr>\n      <th>7</th>\n      <td>7</td>\n      <td>17</td>\n      <td>27</td>\n    </tr>\n    <tr>\n      <th>8</th>\n      <td>8</td>\n      <td>18</td>\n      <td>28</td>\n    </tr>\n    <tr>\n      <th>9</th>\n      <td>9</td>\n      <td>19</td>\n      <td>29</td>\n    </tr>\n  </tbody>\n</table>\n</div>"
     },
     "execution_count": 34,
     "metadata": {},
     "output_type": "execute_result"
    }
   ],
   "source": [
    "testdf1"
   ],
   "metadata": {
    "collapsed": false,
    "pycharm": {
     "name": "#%%\n"
    }
   }
  },
  {
   "cell_type": "code",
   "execution_count": 35,
   "outputs": [
    {
     "data": {
      "text/plain": "   fe11  fe22  fe555\n0     1    15     30\n1     2    16     31\n2     3    17     32\n3     4    18     33\n4     5    19     34\n5     6    20     35\n6     7    21     36\n7     8    22     37\n8     9    23     38\n9    10    24     39",
      "text/html": "<div>\n<style scoped>\n    .dataframe tbody tr th:only-of-type {\n        vertical-align: middle;\n    }\n\n    .dataframe tbody tr th {\n        vertical-align: top;\n    }\n\n    .dataframe thead th {\n        text-align: right;\n    }\n</style>\n<table border=\"1\" class=\"dataframe\">\n  <thead>\n    <tr style=\"text-align: right;\">\n      <th></th>\n      <th>fe11</th>\n      <th>fe22</th>\n      <th>fe555</th>\n    </tr>\n  </thead>\n  <tbody>\n    <tr>\n      <th>0</th>\n      <td>1</td>\n      <td>15</td>\n      <td>30</td>\n    </tr>\n    <tr>\n      <th>1</th>\n      <td>2</td>\n      <td>16</td>\n      <td>31</td>\n    </tr>\n    <tr>\n      <th>2</th>\n      <td>3</td>\n      <td>17</td>\n      <td>32</td>\n    </tr>\n    <tr>\n      <th>3</th>\n      <td>4</td>\n      <td>18</td>\n      <td>33</td>\n    </tr>\n    <tr>\n      <th>4</th>\n      <td>5</td>\n      <td>19</td>\n      <td>34</td>\n    </tr>\n    <tr>\n      <th>5</th>\n      <td>6</td>\n      <td>20</td>\n      <td>35</td>\n    </tr>\n    <tr>\n      <th>6</th>\n      <td>7</td>\n      <td>21</td>\n      <td>36</td>\n    </tr>\n    <tr>\n      <th>7</th>\n      <td>8</td>\n      <td>22</td>\n      <td>37</td>\n    </tr>\n    <tr>\n      <th>8</th>\n      <td>9</td>\n      <td>23</td>\n      <td>38</td>\n    </tr>\n    <tr>\n      <th>9</th>\n      <td>10</td>\n      <td>24</td>\n      <td>39</td>\n    </tr>\n  </tbody>\n</table>\n</div>"
     },
     "execution_count": 35,
     "metadata": {},
     "output_type": "execute_result"
    }
   ],
   "source": [
    "testdf2"
   ],
   "metadata": {
    "collapsed": false,
    "pycharm": {
     "name": "#%%\n"
    }
   }
  },
  {
   "cell_type": "code",
   "execution_count": 37,
   "outputs": [
    {
     "data": {
      "text/plain": "   fe1  fe2  fe5  fe11  fe22  fe555\n0    0   10   20     1    15     30\n1    1   11   21     2    16     31\n2    2   12   22     3    17     32\n3    3   13   23     4    18     33\n4    4   14   24     5    19     34\n5    5   15   25     6    20     35\n6    6   16   26     7    21     36\n7    7   17   27     8    22     37\n8    8   18   28     9    23     38\n9    9   19   29    10    24     39",
      "text/html": "<div>\n<style scoped>\n    .dataframe tbody tr th:only-of-type {\n        vertical-align: middle;\n    }\n\n    .dataframe tbody tr th {\n        vertical-align: top;\n    }\n\n    .dataframe thead th {\n        text-align: right;\n    }\n</style>\n<table border=\"1\" class=\"dataframe\">\n  <thead>\n    <tr style=\"text-align: right;\">\n      <th></th>\n      <th>fe1</th>\n      <th>fe2</th>\n      <th>fe5</th>\n      <th>fe11</th>\n      <th>fe22</th>\n      <th>fe555</th>\n    </tr>\n  </thead>\n  <tbody>\n    <tr>\n      <th>0</th>\n      <td>0</td>\n      <td>10</td>\n      <td>20</td>\n      <td>1</td>\n      <td>15</td>\n      <td>30</td>\n    </tr>\n    <tr>\n      <th>1</th>\n      <td>1</td>\n      <td>11</td>\n      <td>21</td>\n      <td>2</td>\n      <td>16</td>\n      <td>31</td>\n    </tr>\n    <tr>\n      <th>2</th>\n      <td>2</td>\n      <td>12</td>\n      <td>22</td>\n      <td>3</td>\n      <td>17</td>\n      <td>32</td>\n    </tr>\n    <tr>\n      <th>3</th>\n      <td>3</td>\n      <td>13</td>\n      <td>23</td>\n      <td>4</td>\n      <td>18</td>\n      <td>33</td>\n    </tr>\n    <tr>\n      <th>4</th>\n      <td>4</td>\n      <td>14</td>\n      <td>24</td>\n      <td>5</td>\n      <td>19</td>\n      <td>34</td>\n    </tr>\n    <tr>\n      <th>5</th>\n      <td>5</td>\n      <td>15</td>\n      <td>25</td>\n      <td>6</td>\n      <td>20</td>\n      <td>35</td>\n    </tr>\n    <tr>\n      <th>6</th>\n      <td>6</td>\n      <td>16</td>\n      <td>26</td>\n      <td>7</td>\n      <td>21</td>\n      <td>36</td>\n    </tr>\n    <tr>\n      <th>7</th>\n      <td>7</td>\n      <td>17</td>\n      <td>27</td>\n      <td>8</td>\n      <td>22</td>\n      <td>37</td>\n    </tr>\n    <tr>\n      <th>8</th>\n      <td>8</td>\n      <td>18</td>\n      <td>28</td>\n      <td>9</td>\n      <td>23</td>\n      <td>38</td>\n    </tr>\n    <tr>\n      <th>9</th>\n      <td>9</td>\n      <td>19</td>\n      <td>29</td>\n      <td>10</td>\n      <td>24</td>\n      <td>39</td>\n    </tr>\n  </tbody>\n</table>\n</div>"
     },
     "execution_count": 37,
     "metadata": {},
     "output_type": "execute_result"
    }
   ],
   "source": [
    "pd.concat([testdf1, testdf2], axis=1)\n"
   ],
   "metadata": {
    "collapsed": false,
    "pycharm": {
     "name": "#%%\n"
    }
   }
  },
  {
   "cell_type": "code",
   "execution_count": 32,
   "outputs": [],
   "source": [
    "testdf2.to_csv(\"tmp/woai.csv\", index=False)"
   ],
   "metadata": {
    "collapsed": false,
    "pycharm": {
     "name": "#%%\n"
    }
   }
  },
  {
   "cell_type": "code",
   "execution_count": 38,
   "outputs": [
    {
     "data": {
      "text/plain": "(10, 3)"
     },
     "execution_count": 38,
     "metadata": {},
     "output_type": "execute_result"
    }
   ],
   "source": [
    "testdf2.shape"
   ],
   "metadata": {
    "collapsed": false,
    "pycharm": {
     "name": "#%%\n"
    }
   }
  },
  {
   "cell_type": "code",
   "execution_count": null,
   "outputs": [],
   "source": [],
   "metadata": {
    "collapsed": false,
    "pycharm": {
     "name": "#%%\n"
    }
   }
  }
 ],
 "metadata": {
  "kernelspec": {
   "display_name": "Python 3",
   "language": "python",
   "name": "python3"
  },
  "language_info": {
   "codemirror_mode": {
    "name": "ipython",
    "version": 2
   },
   "file_extension": ".py",
   "mimetype": "text/x-python",
   "name": "python",
   "nbconvert_exporter": "python",
   "pygments_lexer": "ipython2",
   "version": "2.7.6"
  }
 },
 "nbformat": 4,
 "nbformat_minor": 0
}