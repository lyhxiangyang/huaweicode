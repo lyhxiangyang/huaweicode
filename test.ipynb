{
 "cells": [
  {
   "cell_type": "markdown",
   "source": [
    "# 下面是一个自己组成的csv例子"
   ],
   "metadata": {
    "collapsed": false
   }
  },
  {
   "cell_type": "code",
   "execution_count": 1,
   "outputs": [
    {
     "data": {
      "text/plain": "   fe1  fe2  fe5  faultFlag\n0    0   10   20          1\n1    1   11   21          2\n2    2   12   22          3\n3    3   13   23          5\n4    4   14   24          1\n5    5   15   25          2\n6    6   16   26          3\n7    7   17   27          5\n8    8   18   28          5\n9    9   19   29          3",
      "text/html": "<div>\n<style scoped>\n    .dataframe tbody tr th:only-of-type {\n        vertical-align: middle;\n    }\n\n    .dataframe tbody tr th {\n        vertical-align: top;\n    }\n\n    .dataframe thead th {\n        text-align: right;\n    }\n</style>\n<table border=\"1\" class=\"dataframe\">\n  <thead>\n    <tr style=\"text-align: right;\">\n      <th></th>\n      <th>fe1</th>\n      <th>fe2</th>\n      <th>fe5</th>\n      <th>faultFlag</th>\n    </tr>\n  </thead>\n  <tbody>\n    <tr>\n      <th>0</th>\n      <td>0</td>\n      <td>10</td>\n      <td>20</td>\n      <td>1</td>\n    </tr>\n    <tr>\n      <th>1</th>\n      <td>1</td>\n      <td>11</td>\n      <td>21</td>\n      <td>2</td>\n    </tr>\n    <tr>\n      <th>2</th>\n      <td>2</td>\n      <td>12</td>\n      <td>22</td>\n      <td>3</td>\n    </tr>\n    <tr>\n      <th>3</th>\n      <td>3</td>\n      <td>13</td>\n      <td>23</td>\n      <td>5</td>\n    </tr>\n    <tr>\n      <th>4</th>\n      <td>4</td>\n      <td>14</td>\n      <td>24</td>\n      <td>1</td>\n    </tr>\n    <tr>\n      <th>5</th>\n      <td>5</td>\n      <td>15</td>\n      <td>25</td>\n      <td>2</td>\n    </tr>\n    <tr>\n      <th>6</th>\n      <td>6</td>\n      <td>16</td>\n      <td>26</td>\n      <td>3</td>\n    </tr>\n    <tr>\n      <th>7</th>\n      <td>7</td>\n      <td>17</td>\n      <td>27</td>\n      <td>5</td>\n    </tr>\n    <tr>\n      <th>8</th>\n      <td>8</td>\n      <td>18</td>\n      <td>28</td>\n      <td>5</td>\n    </tr>\n    <tr>\n      <th>9</th>\n      <td>9</td>\n      <td>19</td>\n      <td>29</td>\n      <td>3</td>\n    </tr>\n  </tbody>\n</table>\n</div>"
     },
     "execution_count": 1,
     "metadata": {},
     "output_type": "execute_result"
    }
   ],
   "source": [
    "from utils.DefineData import *\n",
    "import pandas as pd\n",
    "import numpy as np\n",
    "dictDF = {\n",
    "    \"fe1\" : np.arange(0,10),\n",
    "    \"fe2\" : np.arange(10,20),\n",
    "    \"fe5\" : np.arange(20,30),\n",
    "    FAULT_FLAG : [1,2,3,5,1,2,3, 5, 5,3]\n",
    "}\n",
    "testdf = pd.DataFrame(data=dictDF)\n",
    "testdf"
   ],
   "metadata": {
    "collapsed": false,
    "pycharm": {
     "name": "#%%\n"
    }
   }
  },
  {
   "cell_type": "code",
   "execution_count": 2,
   "outputs": [],
   "source": [
    "# testdf[FAULT_FLAG]\n",
    "# sFault_Flag_Colums = sorted(list(set(testdf[FAULT_FLAG])))\n",
    "# print(sFault_Flag_Colums)"
   ],
   "metadata": {
    "collapsed": false,
    "pycharm": {
     "name": "#%%\n"
    }
   }
  },
  {
   "cell_type": "code",
   "execution_count": 3,
   "outputs": [
    {
     "name": "stdout",
     "output_type": "stream",
     "text": [
      "0 5\n",
      "[0, 1, 2, 3, 4]\n",
      "fe1_min 0\n",
      "5 10\n",
      "[5, 6, 7, 8, 9]\n",
      "fe1_min 5\n",
      "0 5\n",
      "[10, 11, 12, 13, 14]\n",
      "fe2_min 10\n",
      "5 10\n",
      "[15, 16, 17, 18, 19]\n",
      "fe2_min 15\n",
      "0 5\n",
      "[20, 21, 22, 23, 24]\n",
      "fe5_min 20\n",
      "5 10\n",
      "[25, 26, 27, 28, 29]\n",
      "fe5_min 25\n",
      "***********featureExtraction************\n",
      "   fe1_min  fe1_max\n",
      "0        0        4\n",
      "1        5        9\n",
      "******************end*******************\n"
     ]
    }
   ],
   "source": [
    "import utils.DataFrameOperation\n",
    "import utils.FeatureExtraction\n",
    "from utils.DefineData import *\n",
    "_ = utils.FeatureExtraction.featureExtraction(testdf, windowSize=5)"
   ],
   "metadata": {
    "collapsed": false,
    "pycharm": {
     "name": "#%%\n"
    }
   }
  },
  {
   "cell_type": "code",
   "execution_count": 7,
   "outputs": [
    {
     "data": {
      "text/plain": "   fe1  fe2\n0    0   10\n1    1   11\n2    2   12\n3    3   13\n4    4   14\n5    5   15\n6    6   16\n7    7   17\n8    8   18\n9    9   19",
      "text/html": "<div>\n<style scoped>\n    .dataframe tbody tr th:only-of-type {\n        vertical-align: middle;\n    }\n\n    .dataframe tbody tr th {\n        vertical-align: top;\n    }\n\n    .dataframe thead th {\n        text-align: right;\n    }\n</style>\n<table border=\"1\" class=\"dataframe\">\n  <thead>\n    <tr style=\"text-align: right;\">\n      <th></th>\n      <th>fe1</th>\n      <th>fe2</th>\n    </tr>\n  </thead>\n  <tbody>\n    <tr>\n      <th>0</th>\n      <td>0</td>\n      <td>10</td>\n    </tr>\n    <tr>\n      <th>1</th>\n      <td>1</td>\n      <td>11</td>\n    </tr>\n    <tr>\n      <th>2</th>\n      <td>2</td>\n      <td>12</td>\n    </tr>\n    <tr>\n      <th>3</th>\n      <td>3</td>\n      <td>13</td>\n    </tr>\n    <tr>\n      <th>4</th>\n      <td>4</td>\n      <td>14</td>\n    </tr>\n    <tr>\n      <th>5</th>\n      <td>5</td>\n      <td>15</td>\n    </tr>\n    <tr>\n      <th>6</th>\n      <td>6</td>\n      <td>16</td>\n    </tr>\n    <tr>\n      <th>7</th>\n      <td>7</td>\n      <td>17</td>\n    </tr>\n    <tr>\n      <th>8</th>\n      <td>8</td>\n      <td>18</td>\n    </tr>\n    <tr>\n      <th>9</th>\n      <td>9</td>\n      <td>19</td>\n    </tr>\n  </tbody>\n</table>\n</div>"
     },
     "execution_count": 7,
     "metadata": {},
     "output_type": "execute_result"
    }
   ],
   "source": [],
   "metadata": {
    "collapsed": false,
    "pycharm": {
     "name": "#%%\n"
    }
   }
  }
 ],
 "metadata": {
  "kernelspec": {
   "display_name": "Python 3",
   "language": "python",
   "name": "python3"
  },
  "language_info": {
   "codemirror_mode": {
    "name": "ipython",
    "version": 2
   },
   "file_extension": ".py",
   "mimetype": "text/x-python",
   "name": "python",
   "nbconvert_exporter": "python",
   "pygments_lexer": "ipython2",
   "version": "2.7.6"
  }
 },
 "nbformat": 4,
 "nbformat_minor": 0
}